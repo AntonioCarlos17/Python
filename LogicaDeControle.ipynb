{
 "cells": [
  {
   "cell_type": "code",
   "execution_count": 4,
   "metadata": {},
   "outputs": [
    {
     "name": "stdout",
     "output_type": "stream",
     "text": [
      "Você está aprovado. Parabéns!\n",
      "sua média foi: 7.75\n"
     ]
    }
   ],
   "source": [
    "#if<condição>:\n",
    " #<bloco de códigos>\n",
    "#elif <condição>:\n",
    " #<bloco de códigos>\n",
    "#else:\n",
    "  #<ultimo bloco>\n",
    "\n",
    "nota1 = eval(input('digite a primeira nota:'))\n",
    "nota2 = eval(input('digite a segunda nota:'))\n",
    "media=(nota1+nota2)/2\n",
    "\n",
    "if media>=7:\n",
    "  print('Você está aprovado. Parabéns!')\n",
    "  print(f'sua média foi: {media}')\n",
    "elif (media<6.99)&(media>5):\n",
    "  print('Você está de recuperação')\n",
    "  print(f'sua média foi: {media}')\n",
    "else:\n",
    "  print('Você não está aprovado.')\n",
    "  print(f'sua média foi: {media}')\n"
   ]
  }
 ],
 "metadata": {
  "interpreter": {
   "hash": "2dcad13c7434bc935cd4f7818733fe335f3493f88efa249600c5154b6b28d02e"
  },
  "kernelspec": {
   "display_name": "Python 3.12.3 64-bit",
   "language": "python",
   "name": "python3"
  },
  "language_info": {
   "codemirror_mode": {
    "name": "ipython",
    "version": 3
   },
   "file_extension": ".py",
   "mimetype": "text/x-python",
   "name": "python",
   "nbconvert_exporter": "python",
   "pygments_lexer": "ipython3",
   "version": "3.12.3"
  },
  "orig_nbformat": 4
 },
 "nbformat": 4,
 "nbformat_minor": 2
}
