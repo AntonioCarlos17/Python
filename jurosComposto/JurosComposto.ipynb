{
 "cells": [
  {
   "cell_type": "markdown",
   "metadata": {},
   "source": [
    "Juros compostos são uma boa forma de alavancar os investimentos. e para saber qual sera o montante final, temos que saber.\n",
    "1. O capital investido(C).\n",
    "2. A taxa de juros, que é a porcentage, cobrada em cima do capital, usarremos a taxa ao ano(i).\n",
    "3. O tempo, em meses, que o capital ficará apilicado(t).\n",
    "4. Os juros de rendimentos(J), calculado pela subtração do valor final do capital investido.\n",
    "5. Montante final após o termino do invstimento: M = C*(1+i)^t "
   ]
  },
  {
   "cell_type": "code",
   "execution_count": null,
   "metadata": {},
   "outputs": [],
   "source": [
    "from math import pow"
   ]
  },
  {
   "cell_type": "code",
   "execution_count": 9,
   "metadata": {},
   "outputs": [],
   "source": [
    "def composto(capital, juros, tempo):\n",
    "  return capital*pow((1+juros), tempo)\n",
    "\n",
    "def simples(capital, juros, tempo):\n",
    "  return capital*juros*tempo"
   ]
  },
  {
   "cell_type": "code",
   "execution_count": 7,
   "metadata": {},
   "outputs": [
    {
     "name": "stdout",
     "output_type": "stream",
     "text": [
      "O montante final será de R$ 2251.02\n",
      "Os juros do rendimento foram de R$ 251.02\n"
     ]
    }
   ],
   "source": [
    "capital = float(input('Qual o capital de investimento? '))\n",
    "juros = float(input('Qual o juros anual em porcentagem(%)? '))\n",
    "tempo = int(input('Quantos meses será o investimento? '))\n",
    "\n",
    "juros = juros / 100\n",
    "tempo = tempo / 12\n",
    "\n",
    "valor_final_composto = composto(capital, juros, tempo)\n",
    "print(f'O montante final será de R$ {valor_final_composto:.02f}')\n",
    "print(f'Os juros do rendimento foram de R$ {(valor_final_composto - capital):.02f}')"
   ]
  },
  {
   "cell_type": "code",
   "execution_count": 11,
   "metadata": {},
   "outputs": [
    {
     "name": "stdout",
     "output_type": "stream",
     "text": [
      "240.0\n",
      "O montante final será de R$ 240.00\n"
     ]
    }
   ],
   "source": [
    "capital = float(input('Qual vai ser o valor inicial? '))\n",
    "juros = float(input('Qual o juros anual em porcentagem (%)? '))\n",
    "tempo = int(input('Quantos meses será o investimento? '))\n",
    "\n",
    "juros = juros / 100\n",
    "tempo = tempo / 12\n",
    "\n",
    "valor_final_simples = simples(capital, juros, tempo)\n",
    "print(f'O montante final será de R$ {valor_final_simples + capital:.02f}')\n"
   ]
  }
 ],
 "metadata": {
  "interpreter": {
   "hash": "2dcad13c7434bc935cd4f7818733fe335f3493f88efa249600c5154b6b28d02e"
  },
  "kernelspec": {
   "display_name": "Python 3.12.3 64-bit",
   "language": "python",
   "name": "python3"
  },
  "language_info": {
   "codemirror_mode": {
    "name": "ipython",
    "version": 3
   },
   "file_extension": ".py",
   "mimetype": "text/x-python",
   "name": "python",
   "nbconvert_exporter": "python",
   "pygments_lexer": "ipython3",
   "version": "3.12.3"
  },
  "orig_nbformat": 4
 },
 "nbformat": 4,
 "nbformat_minor": 2
}
