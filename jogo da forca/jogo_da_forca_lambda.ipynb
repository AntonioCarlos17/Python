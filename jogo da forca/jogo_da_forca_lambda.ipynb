{
 "cells": [
  {
   "cell_type": "code",
   "execution_count": 5,
   "metadata": {},
   "outputs": [
    {
     "name": "stdout",
     "output_type": "stream",
     "text": [
      "--------\n",
      "--------\n",
      "Letra não encontrada. você tem mais 5 tentativas\n",
      "--------\n",
      "Letra não encontrada. você tem mais 4 tentativas\n",
      "--------\n",
      "Letra não encontrada. você tem mais 3 tentativas\n",
      "--------\n",
      "-----i--\n",
      "-e-e-i--\n",
      "Letra não encontrada. você tem mais 2 tentativas\n",
      "-e-e-i--\n",
      "Letra não encontrada. você tem mais 1 tentativas\n",
      "-e-e-i--\n",
      "-e-e-i-o\n",
      "-e-eri-o\n",
      "Letra não encontrada. você tem mais 0 tentativas\n",
      "Você perdeu. A palavra era deferido.\n"
     ]
    }
   ],
   "source": [
    "import random\n",
    "\n",
    "\n",
    " #criar uma lista de palavras que serão sorteadas.\n",
    "palavras = ['inerente','respeito','peculiar','denegrir','genocida','anuencia','equidade','deferido','prudente','essencia','iminente','pandemia','desgraça','misogino','eminente','invasivo','premissa','alienado','abstrato','extensao','empirico','conceito','ardiloso','talarico','ascensao','reiterar','devaneio']\n",
    "\n",
    "#esolhendo uma palavara entre as palavras selecionadas.\n",
    "\n",
    "palavra = random.choice(palavras)\n",
    "\n",
    "#criando uma string com traços que representam as letras\n",
    "\n",
    "palavra_escondida = '-' * len(palavra)\n",
    "print(palavra_escondida)\n",
    "\n",
    "#criamos uma lista vazia para armazenar as letras que já foram dígitadas.\n",
    "letras_adivinhadas = []\n",
    "\n",
    "max_tentativas = 6\n",
    "\n",
    "while True:\n",
    "  #mostrar na tela a palavra escondida\n",
    "  print(palavra_escondida)\n",
    "  \n",
    "  #pedimos ao jogador para dígitar uma letra\n",
    "  letra = input('Dígite uma letra: ')\n",
    "\n",
    "  #verificamos se a letra já foi dígitada\n",
    "  if letra in letras_adivinhadas:\n",
    "    print('Você já dígitou essa letra. Tente outra letra por favor')\n",
    "    continue\n",
    "  #adicionar a letra na lista de letras digitadas\n",
    "  letras_adivinhadas.append(letra)\n",
    "  \n",
    "  #verificar se a letra digitada está na palavra sorteada e trocar a letra no espaço\n",
    "  if letra in palavra:\n",
    "    palavra_escondida = ''.join(letra if letra == palavra[indice] \n",
    "                                else palavra_escondida[indice] for \n",
    "                                indice in range (len(palavra)))\n",
    "    \n",
    "    \n",
    "    #lista = []\n",
    "    #for indice in range(len(palavra_sorteada)): a palavra sorteada virou apenas palavra\n",
    "      #if letra == palavra_sorteada[indice]:\n",
    "       # lista.append(letra)\n",
    "      #else:\n",
    "     #   lista.append(palavra_escondida[indice])\n",
    "    #palavra_escondida = ''.join(lista)\n",
    "  else: #letra não está na palavra sorteada\n",
    "    max_tentativas -= 1\n",
    "    print(f'Letra não encontrada. você tem mais {max_tentativas} tentativas')\n",
    "    \n",
    "  #verificamos se o jogador ganhou ou perdeu\n",
    "  if palavra_escondida == palavra:\n",
    "    print('Parabéns!! você acertou a palavra escondida')\n",
    "    break\n",
    "  elif max_tentativas == 0:\n",
    "    print(f'Você perdeu. A palavra era {palavra}.')\n",
    "    break"
   ]
  }
 ],
 "metadata": {
  "interpreter": {
   "hash": "2dcad13c7434bc935cd4f7818733fe335f3493f88efa249600c5154b6b28d02e"
  },
  "kernelspec": {
   "display_name": "Python 3.12.3 64-bit",
   "language": "python",
   "name": "python3"
  },
  "language_info": {
   "codemirror_mode": {
    "name": "ipython",
    "version": 3
   },
   "file_extension": ".py",
   "mimetype": "text/x-python",
   "name": "python",
   "nbconvert_exporter": "python",
   "pygments_lexer": "ipython3",
   "version": "3.12.3"
  },
  "orig_nbformat": 4
 },
 "nbformat": 4,
 "nbformat_minor": 2
}
