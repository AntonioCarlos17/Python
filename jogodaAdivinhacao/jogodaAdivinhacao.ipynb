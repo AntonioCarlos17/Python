{
 "cells": [
  {
   "cell_type": "code",
   "execution_count": null,
   "metadata": {},
   "outputs": [],
   "source": [
    "import random"
   ]
  },
  {
   "cell_type": "code",
   "execution_count": 11,
   "metadata": {},
   "outputs": [
    {
     "name": "stdout",
     "output_type": "stream",
     "text": [
      "Número errado.\n",
      " tente novamente. \n",
      " você tem 2 tentativas. \n",
      "Número errado.\n",
      " tente novamente. \n",
      " você tem 1 tentativas. \n",
      "Você não acertou o número e não tem mais tentaivas. o número sorteado era 7\n"
     ]
    }
   ],
   "source": [
    "numero_minimo = int(input('Qual o número mínimo do intervalo?\\n'))\n",
    "numero_maximo = int(input('Qual o número máximo do intervalo?\\n'))\n",
    "tentativas = int(input('Quantas tentativas para acertar?\\n'))\n",
    "numero_sorteado = random.randint(numero_minimo, numero_maximo)\n",
    "\n",
    "while True:\n",
    "  escolha = int(input(f'Dígite um número entre {numero_minimo} e {numero_maximo}.\\n'))\n",
    "\n",
    "  if escolha == numero_sorteado:\n",
    "    print('Parabéns Você acertou o numero.')\n",
    "    break\n",
    "  else:\n",
    "    tentativas -= 1  # subtrai uma tentativa\n",
    "    if tentativas == 0:\n",
    "      print(f'Você não acertou o número e suas tentativas acabaram.')\n",
    "      print(f' o número sorteado era {numero_sorteado}.')\n",
    "      break\n",
    "    else:\n",
    "      print(f'Número errado.\\n tente novamente. \\n você tem {tentativas} tentativas. ')\n"
   ]
  }
 ],
 "metadata": {
  "interpreter": {
   "hash": "2dcad13c7434bc935cd4f7818733fe335f3493f88efa249600c5154b6b28d02e"
  },
  "kernelspec": {
   "display_name": "Python 3.12.3 64-bit",
   "language": "python",
   "name": "python3"
  },
  "language_info": {
   "codemirror_mode": {
    "name": "ipython",
    "version": 3
   },
   "file_extension": ".py",
   "mimetype": "text/x-python",
   "name": "python",
   "nbconvert_exporter": "python",
   "pygments_lexer": "ipython3",
   "version": "3.12.3"
  },
  "orig_nbformat": 4
 },
 "nbformat": 4,
 "nbformat_minor": 2
}
