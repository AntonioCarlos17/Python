{
 "cells": [
  {
   "cell_type": "markdown",
   "metadata": {},
   "source": [
    "Funções\n",
    "Funções são códigos que podemos chamar a todo momento no programa.\n",
    "Temos que tomar cuidado de definir a função antes de chamá-la.\n",
    "Documntar a função com docstring é uma boa práticas de programação."
   ]
  },
  {
   "cell_type": "code",
   "execution_count": 2,
   "metadata": {},
   "outputs": [
    {
     "name": "stdout",
     "output_type": "stream",
     "text": [
      "olá Mundo!\n"
     ]
    }
   ],
   "source": [
    "#função sem retorno e sem passagem de parâmetros\n",
    "def ola_mundo():\n",
    "  'Funções que mostra uma mensagem padrão na tela.'\n",
    "  print('olá Mundo!')\n",
    "\n",
    "ola_mundo()\n"
   ]
  },
  {
   "cell_type": "code",
   "execution_count": 9,
   "metadata": {},
   "outputs": [
    {
     "name": "stdout",
     "output_type": "stream",
     "text": [
      "Olá Mundo, meu nome é User\n"
     ]
    }
   ],
   "source": [
    "#Função de retorno com passagem de parâmetro\n",
    "def ola_mundo(name=\"User\"):\n",
    "  'Função que mostra um texto customizado na tela.'\n",
    "  print(f'Olá Mundo, meu nome é {name}')\n",
    "\n",
    "nome = input('digite seu nome ')\n",
    "ola_mundo()"
   ]
  },
  {
   "cell_type": "code",
   "execution_count": 12,
   "metadata": {},
   "outputs": [
    {
     "name": "stdout",
     "output_type": "stream",
     "text": [
      "7\n"
     ]
    }
   ],
   "source": [
    "#Função com retorno e com passagem de parâmetros\n",
    "def soma(a,b):\n",
    "  'Função que realiza a soma dos números e Retorna o resultado'\n",
    "  return a+b\n",
    "\n",
    "resultado = soma(3,4)\n",
    "print(resultado)\n"
   ]
  }
 ],
 "metadata": {
  "interpreter": {
   "hash": "2dcad13c7434bc935cd4f7818733fe335f3493f88efa249600c5154b6b28d02e"
  },
  "kernelspec": {
   "display_name": "Python 3.12.3 64-bit",
   "language": "python",
   "name": "python3"
  },
  "language_info": {
   "codemirror_mode": {
    "name": "ipython",
    "version": 3
   },
   "file_extension": ".py",
   "mimetype": "text/x-python",
   "name": "python",
   "nbconvert_exporter": "python",
   "pygments_lexer": "ipython3",
   "version": "3.12.3"
  },
  "orig_nbformat": 4
 },
 "nbformat": 4,
 "nbformat_minor": 2
}
