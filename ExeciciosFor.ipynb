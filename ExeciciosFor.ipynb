{
 "cells": [
  {
   "cell_type": "markdown",
   "metadata": {},
   "source": [
    "faça um programa que gere uma tabela de multiplicação, a famosa tabuada. o programa deverá perguntar ao usuário qual tabuada ele quer e até qual valor a tabuada será mostrada, sempre começando pelo zero.(geralmente é do zero a dez)"
   ]
  },
  {
   "cell_type": "code",
   "execution_count": 1,
   "metadata": {},
   "outputs": [
    {
     "name": "stdout",
     "output_type": "stream",
     "text": [
      "8 X 0 = 0\n",
      "8 X 1 = 8\n",
      "8 X 2 = 16\n",
      "8 X 3 = 24\n",
      "8 X 4 = 32\n",
      "8 X 5 = 40\n",
      "8 X 6 = 48\n",
      "8 X 7 = 56\n",
      "8 X 8 = 64\n",
      "8 X 9 = 72\n",
      "8 X 10 = 80\n"
     ]
    }
   ],
   "source": [
    "tabuada = int(input('qual tabuada será gerada? '))\n",
    "limite = int(input('Até qual valor iremos calcular? '))\n",
    "for numero in range(0,limite+1):\n",
    "  print(f'{tabuada} X {numero} = {tabuada*numero}')"
   ]
  },
  {
   "cell_type": "markdown",
   "metadata": {},
   "source": [
    "Faça um programa que calcule o enésimo elemento da série de Fibonacci. lembrando que á seria comeca do 1."
   ]
  },
  {
   "cell_type": "code",
   "execution_count": 5,
   "metadata": {},
   "outputs": [
    {
     "name": "stdout",
     "output_type": "stream",
     "text": [
      "21\n"
     ]
    }
   ],
   "source": [
    "n = int(input('Digite qual elemento da serie deve ser mostrado '))\n",
    "\n",
    "primeiro = 1\n",
    "segundo = 1\n",
    "\n",
    "if n==1 or n==2:\n",
    "  print('1')\n",
    "else:\n",
    "  for _ in range(2,n):\n",
    "    elemento = primeiro + segundo\n",
    "    segundo = primeiro\n",
    "    primeiro = elemento\n",
    "print(elemento)"
   ]
  }
 ],
 "metadata": {
  "interpreter": {
   "hash": "2dcad13c7434bc935cd4f7818733fe335f3493f88efa249600c5154b6b28d02e"
  },
  "kernelspec": {
   "display_name": "Python 3.12.3 64-bit",
   "language": "python",
   "name": "python3"
  },
  "language_info": {
   "codemirror_mode": {
    "name": "ipython",
    "version": 3
   },
   "file_extension": ".py",
   "mimetype": "text/x-python",
   "name": "python",
   "nbconvert_exporter": "python",
   "pygments_lexer": "ipython3",
   "version": "3.12.3"
  },
  "orig_nbformat": 4
 },
 "nbformat": 4,
 "nbformat_minor": 2
}
