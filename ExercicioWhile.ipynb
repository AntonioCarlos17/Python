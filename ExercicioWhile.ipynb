{
 "cells": [
  {
   "cell_type": "markdown",
   "metadata": {},
   "source": [
    "faça um programa que calcule o fatorial de um numero, fornecido pelo usuário."
   ]
  },
  {
   "cell_type": "code",
   "execution_count": 3,
   "metadata": {},
   "outputs": [
    {
     "name": "stdout",
     "output_type": "stream",
     "text": [
      "362880\n"
     ]
    }
   ],
   "source": [
    "numero = int(input('Digite um numero inteiro:'))\n",
    "fatorial = numero\n",
    "while numero >= 2:\n",
    "  fatorial = fatorial * (numero - 1)\n",
    "  numero -= 1\n",
    "print(fatorial)"
   ]
  },
  {
   "cell_type": "markdown",
   "metadata": {},
   "source": [
    "vamos fazer um programa que simule um cofre. ele tera uma senhapredefinida e o usuário terá três tentativas para acertar a senha. A cada tentativa o programa deverá mostrar a mensagem: Senha incorreta. Tente novamente. se ele acertar o programa deverá mostrar a mensagem: Senha correta. Acesso concedido."
   ]
  },
  {
   "cell_type": "code",
   "execution_count": 5,
   "metadata": {},
   "outputs": [
    {
     "name": "stdout",
     "output_type": "stream",
     "text": [
      "Senha Incorreta. Tente novamente\n",
      "Senha Correta. Acesso concedido\n"
     ]
    }
   ],
   "source": [
    "senha = \"0000\"\n",
    "tentativas = 3\n",
    "\n",
    "while tentativas != 0:\n",
    "  tentativa = input(\"Digite uma senha numerica de quatro digitos: \")\n",
    "  if tentativa == senha:\n",
    "    print(\"Senha Correta. Acesso concedido\")\n",
    "    break\n",
    "  else:\n",
    "    print(\"Senha Incorreta. Tente novamente\")\n",
    "    tentativas -= 1"
   ]
  }
 ],
 "metadata": {
  "interpreter": {
   "hash": "2dcad13c7434bc935cd4f7818733fe335f3493f88efa249600c5154b6b28d02e"
  },
  "kernelspec": {
   "display_name": "Python 3.12.3 64-bit",
   "language": "python",
   "name": "python3"
  },
  "language_info": {
   "codemirror_mode": {
    "name": "ipython",
    "version": 3
   },
   "file_extension": ".py",
   "mimetype": "text/x-python",
   "name": "python",
   "nbconvert_exporter": "python",
   "pygments_lexer": "ipython3",
   "version": "3.12.3"
  },
  "orig_nbformat": 4
 },
 "nbformat": 4,
 "nbformat_minor": 2
}
