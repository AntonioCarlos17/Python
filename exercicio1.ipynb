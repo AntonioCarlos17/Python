{
 "cells": [
  {
   "cell_type": "code",
   "execution_count": 54,
   "metadata": {},
   "outputs": [
    {
     "name": "stdout",
     "output_type": "stream",
     "text": [
      "60\n",
      "15.0\n",
      "8.4\n",
      "o menor preço é R$ 18.95\n"
     ]
    }
   ],
   "source": [
    "soma=sum((10,11,12,13,14))\n",
    "print(soma)\n",
    "\n",
    "soma=sum((10,15,20))\n",
    "media=soma/3\n",
    "print(media)\n",
    "\n",
    "nota1=input(\"digite a primeira nota?\")\n",
    "nota2=input(\"digite a segunda nota?\")\n",
    "peso1=input(\"digite o peso da primeira nota?\")\n",
    "peso2=input(\"digite o peso da segunda nota?\")\n",
    "\n",
    "media=(int(nota1)*int(peso1)+int(nota2)*int(peso2))/(int(peso1)+int(peso2))\n",
    "print(media)\n",
    "\n",
    "menorPreco=float(min(100.20,34.90,31.50,18.95))\n",
    "print('o menor preço é R$',menorPreco)"
   ]
  },
  {
   "cell_type": "code",
   "execution_count": 59,
   "metadata": {},
   "outputs": [
    {
     "name": "stdout",
     "output_type": "stream",
     "text": [
      "True\n"
     ]
    }
   ],
   "source": [
    "nume=input('digite um numero qualquer maior que 0?')\n",
    "resol=int(nume)%2\n",
    "if(resol==0):print('True')\n",
    "else:print('False')\n"
   ]
  },
  {
   "cell_type": "code",
   "execution_count": 1,
   "metadata": {},
   "outputs": [
    {
     "name": "stdout",
     "output_type": "stream",
     "text": [
      "É menor\n"
     ]
    }
   ],
   "source": [
    "preco=min([100.20,34.90,31.50,18.95])\n",
    "if(preco<20): print('É menor')\n",
    "else: print('É maior')\n"
   ]
  },
  {
   "cell_type": "code",
   "execution_count": 4,
   "metadata": {},
   "outputs": [
    {
     "name": "stdout",
     "output_type": "stream",
     "text": [
      "A temperatura em graus Celsius é: 14.444444444444445\n"
     ]
    }
   ],
   "source": [
    "fahrenheit=eval(input('digite a temperatura em Graus Fahrenheit:'))\n",
    "celsius=(5/9)*(fahrenheit-32)\n",
    "print(f'A temperatura em graus Celsius é: {celsius}')"
   ]
  }
 ],
 "metadata": {
  "interpreter": {
   "hash": "2dcad13c7434bc935cd4f7818733fe335f3493f88efa249600c5154b6b28d02e"
  },
  "kernelspec": {
   "display_name": "Python 3.12.3 64-bit",
   "language": "python",
   "name": "python3"
  },
  "language_info": {
   "codemirror_mode": {
    "name": "ipython",
    "version": 3
   },
   "file_extension": ".py",
   "mimetype": "text/x-python",
   "name": "python",
   "nbconvert_exporter": "python",
   "pygments_lexer": "ipython3",
   "version": "3.12.3"
  },
  "orig_nbformat": 4
 },
 "nbformat": 4,
 "nbformat_minor": 2
}
