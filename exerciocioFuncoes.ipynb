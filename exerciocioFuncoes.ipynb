{
 "cells": [
  {
   "cell_type": "markdown",
   "metadata": {},
   "source": [
    "Escreva uma função que calcule o quadrado do número passado como parâmetro. se nenhum número for passado use como padrão o número 5."
   ]
  },
  {
   "cell_type": "code",
   "execution_count": 26,
   "metadata": {},
   "outputs": [
    {
     "name": "stdout",
     "output_type": "stream",
     "text": [
      "4\n"
     ]
    }
   ],
   "source": [
    "c = int(input('digite um número? '))\n",
    "\n",
    "def quadrado(a=5):\n",
    "  'Função responsável por multiplicar os números'\n",
    "  if a==5:\n",
    "    resultado = a*a\n",
    "    return resultado\n",
    "  else:\n",
    "    resultado = a*a\n",
    "    return resultado\n",
    "\n",
    "teste = quadrado(c)\n",
    "print(teste)"
   ]
  },
  {
   "cell_type": "code",
   "execution_count": 23,
   "metadata": {},
   "outputs": [
    {
     "name": "stdout",
     "output_type": "stream",
     "text": [
      "100.00000000555556\n"
     ]
    }
   ],
   "source": [
    "def temperatura(temp):\n",
    "  celsius = (5/9) * (temp - 32)\n",
    "  return celsius\n",
    "\n",
    "print(temperatura(212.00000001))"
   ]
  },
  {
   "cell_type": "code",
   "execution_count": 26,
   "metadata": {},
   "outputs": [
    {
     "name": "stdout",
     "output_type": "stream",
     "text": [
      "729\n",
      "64\n"
     ]
    }
   ],
   "source": [
    "def calculo(comando, numero):\n",
    "  if comando == 'quadrado':\n",
    "    return numero*numero\n",
    "  else:\n",
    "    return numero * numero * numero\n",
    "\n",
    "print(calculo('cubo', 9))\n",
    "print(calculo('quadrado', 8))"
   ]
  }
 ],
 "metadata": {
  "interpreter": {
   "hash": "2dcad13c7434bc935cd4f7818733fe335f3493f88efa249600c5154b6b28d02e"
  },
  "kernelspec": {
   "display_name": "Python 3.12.3 64-bit",
   "language": "python",
   "name": "python3"
  },
  "language_info": {
   "codemirror_mode": {
    "name": "ipython",
    "version": 3
   },
   "file_extension": ".py",
   "mimetype": "text/x-python",
   "name": "python",
   "nbconvert_exporter": "python",
   "pygments_lexer": "ipython3",
   "version": "3.12.3"
  },
  "orig_nbformat": 4
 },
 "nbformat": 4,
 "nbformat_minor": 2
}
