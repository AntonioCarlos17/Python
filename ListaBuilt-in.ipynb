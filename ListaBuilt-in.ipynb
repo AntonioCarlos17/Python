{
 "cells": [
  {
   "cell_type": "code",
   "execution_count": 10,
   "metadata": {},
   "outputs": [],
   "source": [
    "mercado=[ 'cebola', 'alho', 'macarrão', 'feijão']"
   ]
  },
  {
   "cell_type": "code",
   "execution_count": 11,
   "metadata": {},
   "outputs": [
    {
     "name": "stdout",
     "output_type": "stream",
     "text": [
      "['cebola', 'alho', 'macarrão', 'feijão', 'molho']\n"
     ]
    }
   ],
   "source": [
    "#acrescenta um elemento no final da lista\n",
    "mercado.append('molho')\n",
    "print(mercado)"
   ]
  },
  {
   "cell_type": "markdown",
   "metadata": {},
   "source": []
  },
  {
   "cell_type": "code",
   "execution_count": 17,
   "metadata": {},
   "outputs": [
    {
     "data": {
      "text/plain": [
       "3"
      ]
     },
     "execution_count": 17,
     "metadata": {},
     "output_type": "execute_result"
    }
   ],
   "source": [
    "#conta quantas vezes um elemento se repete na lista\n",
    "mercado.count('Refrigerante')\n"
   ]
  },
  {
   "cell_type": "code",
   "execution_count": 13,
   "metadata": {},
   "outputs": [
    {
     "data": {
      "text/plain": [
       "3"
      ]
     },
     "execution_count": 13,
     "metadata": {},
     "output_type": "execute_result"
    }
   ],
   "source": [
    "#retorna o indice de um determinado elemento\n",
    "mercado.index('feijão')"
   ]
  },
  {
   "cell_type": "code",
   "execution_count": 16,
   "metadata": {},
   "outputs": [
    {
     "name": "stdout",
     "output_type": "stream",
     "text": [
      "['Refrigerante', 'cebola', 'alho', 'Refrigerante', 'Refrigerante', 'macarrão', 'feijão', 'molho']\n"
     ]
    }
   ],
   "source": [
    "mercado.insert(0,'Refrigerante')\n",
    "print(mercado)"
   ]
  },
  {
   "cell_type": "code",
   "execution_count": 18,
   "metadata": {},
   "outputs": [
    {
     "data": {
      "text/plain": [
       "['Refrigerante',\n",
       " 'Refrigerante',\n",
       " 'Refrigerante',\n",
       " 'alho',\n",
       " 'cebola',\n",
       " 'feijão',\n",
       " 'macarrão',\n",
       " 'molho']"
      ]
     },
     "execution_count": 18,
     "metadata": {},
     "output_type": "execute_result"
    }
   ],
   "source": [
    "mercado.sort()\n",
    "mercado"
   ]
  },
  {
   "cell_type": "code",
   "execution_count": 19,
   "metadata": {},
   "outputs": [
    {
     "data": {
      "text/plain": [
       "['molho',\n",
       " 'macarrão',\n",
       " 'feijão',\n",
       " 'cebola',\n",
       " 'alho',\n",
       " 'Refrigerante',\n",
       " 'Refrigerante',\n",
       " 'Refrigerante']"
      ]
     },
     "execution_count": 19,
     "metadata": {},
     "output_type": "execute_result"
    }
   ],
   "source": [
    "mercado.reverse()\n",
    "mercado"
   ]
  }
 ],
 "metadata": {
  "interpreter": {
   "hash": "2dcad13c7434bc935cd4f7818733fe335f3493f88efa249600c5154b6b28d02e"
  },
  "kernelspec": {
   "display_name": "Python 3.12.3 64-bit",
   "language": "python",
   "name": "python3"
  },
  "language_info": {
   "codemirror_mode": {
    "name": "ipython",
    "version": 3
   },
   "file_extension": ".py",
   "mimetype": "text/x-python",
   "name": "python",
   "nbconvert_exporter": "python",
   "pygments_lexer": "ipython3",
   "version": "3.12.3"
  },
  "orig_nbformat": 4
 },
 "nbformat": 4,
 "nbformat_minor": 2
}
